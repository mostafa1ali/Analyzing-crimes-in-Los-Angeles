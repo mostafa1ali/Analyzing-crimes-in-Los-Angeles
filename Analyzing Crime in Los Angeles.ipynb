{
 "cells": [
  {
   "cell_type": "code",
   "execution_count": 1,
   "id": "539f9d4b",
   "metadata": {},
   "outputs": [],
   "source": [
    "# Import required libraries\n",
    "import pandas as pd\n",
    "import numpy as np\n",
    "import matplotlib.pyplot as plt\n",
    "import seaborn as sns"
   ]
  },
  {
   "cell_type": "code",
   "execution_count": 2,
   "id": "131dbac8",
   "metadata": {},
   "outputs": [
    {
     "data": {
      "text/html": [
       "<div>\n",
       "<style scoped>\n",
       "    .dataframe tbody tr th:only-of-type {\n",
       "        vertical-align: middle;\n",
       "    }\n",
       "\n",
       "    .dataframe tbody tr th {\n",
       "        vertical-align: top;\n",
       "    }\n",
       "\n",
       "    .dataframe thead th {\n",
       "        text-align: right;\n",
       "    }\n",
       "</style>\n",
       "<table border=\"1\" class=\"dataframe\">\n",
       "  <thead>\n",
       "    <tr style=\"text-align: right;\">\n",
       "      <th></th>\n",
       "      <th>DR_NO</th>\n",
       "      <th>Date Rptd</th>\n",
       "      <th>DATE OCC</th>\n",
       "      <th>TIME OCC</th>\n",
       "      <th>AREA NAME</th>\n",
       "      <th>Crm Cd Desc</th>\n",
       "      <th>Vict Age</th>\n",
       "      <th>Vict Sex</th>\n",
       "      <th>Vict Descent</th>\n",
       "      <th>Weapon Desc</th>\n",
       "      <th>Status Desc</th>\n",
       "      <th>LOCATION</th>\n",
       "    </tr>\n",
       "  </thead>\n",
       "  <tbody>\n",
       "    <tr>\n",
       "      <th>0</th>\n",
       "      <td>221412410</td>\n",
       "      <td>2022-06-15</td>\n",
       "      <td>2020-11-12</td>\n",
       "      <td>1700</td>\n",
       "      <td>Pacific</td>\n",
       "      <td>THEFT FROM MOTOR VEHICLE - PETTY ($950 &amp; UNDER)</td>\n",
       "      <td>0</td>\n",
       "      <td>NaN</td>\n",
       "      <td>NaN</td>\n",
       "      <td>NaN</td>\n",
       "      <td>Invest Cont</td>\n",
       "      <td>13600    MARINA POINT                 DR</td>\n",
       "    </tr>\n",
       "    <tr>\n",
       "      <th>1</th>\n",
       "      <td>220314085</td>\n",
       "      <td>2022-07-22</td>\n",
       "      <td>2020-05-12</td>\n",
       "      <td>1110</td>\n",
       "      <td>Southwest</td>\n",
       "      <td>THEFT OF IDENTITY</td>\n",
       "      <td>27</td>\n",
       "      <td>F</td>\n",
       "      <td>B</td>\n",
       "      <td>NaN</td>\n",
       "      <td>Invest Cont</td>\n",
       "      <td>2500 S  SYCAMORE                     AV</td>\n",
       "    </tr>\n",
       "    <tr>\n",
       "      <th>2</th>\n",
       "      <td>222013040</td>\n",
       "      <td>2022-08-06</td>\n",
       "      <td>2020-06-04</td>\n",
       "      <td>1620</td>\n",
       "      <td>Olympic</td>\n",
       "      <td>THEFT OF IDENTITY</td>\n",
       "      <td>60</td>\n",
       "      <td>M</td>\n",
       "      <td>H</td>\n",
       "      <td>NaN</td>\n",
       "      <td>Invest Cont</td>\n",
       "      <td>3300    SAN MARINO                   ST</td>\n",
       "    </tr>\n",
       "    <tr>\n",
       "      <th>3</th>\n",
       "      <td>220614831</td>\n",
       "      <td>2022-08-18</td>\n",
       "      <td>2020-08-17</td>\n",
       "      <td>1200</td>\n",
       "      <td>Hollywood</td>\n",
       "      <td>THEFT OF IDENTITY</td>\n",
       "      <td>28</td>\n",
       "      <td>M</td>\n",
       "      <td>H</td>\n",
       "      <td>NaN</td>\n",
       "      <td>Invest Cont</td>\n",
       "      <td>1900    TRANSIENT</td>\n",
       "    </tr>\n",
       "    <tr>\n",
       "      <th>4</th>\n",
       "      <td>231207725</td>\n",
       "      <td>2023-02-27</td>\n",
       "      <td>2020-01-27</td>\n",
       "      <td>0635</td>\n",
       "      <td>77th Street</td>\n",
       "      <td>THEFT OF IDENTITY</td>\n",
       "      <td>37</td>\n",
       "      <td>M</td>\n",
       "      <td>H</td>\n",
       "      <td>NaN</td>\n",
       "      <td>Invest Cont</td>\n",
       "      <td>6200    4TH                          AV</td>\n",
       "    </tr>\n",
       "  </tbody>\n",
       "</table>\n",
       "</div>"
      ],
      "text/plain": [
       "       DR_NO  Date Rptd   DATE OCC TIME OCC    AREA NAME  \\\n",
       "0  221412410 2022-06-15 2020-11-12     1700      Pacific   \n",
       "1  220314085 2022-07-22 2020-05-12     1110    Southwest   \n",
       "2  222013040 2022-08-06 2020-06-04     1620      Olympic   \n",
       "3  220614831 2022-08-18 2020-08-17     1200    Hollywood   \n",
       "4  231207725 2023-02-27 2020-01-27     0635  77th Street   \n",
       "\n",
       "                                       Crm Cd Desc  Vict Age Vict Sex  \\\n",
       "0  THEFT FROM MOTOR VEHICLE - PETTY ($950 & UNDER)         0      NaN   \n",
       "1                                THEFT OF IDENTITY        27        F   \n",
       "2                                THEFT OF IDENTITY        60        M   \n",
       "3                                THEFT OF IDENTITY        28        M   \n",
       "4                                THEFT OF IDENTITY        37        M   \n",
       "\n",
       "  Vict Descent Weapon Desc  Status Desc  \\\n",
       "0          NaN         NaN  Invest Cont   \n",
       "1            B         NaN  Invest Cont   \n",
       "2            H         NaN  Invest Cont   \n",
       "3            H         NaN  Invest Cont   \n",
       "4            H         NaN  Invest Cont   \n",
       "\n",
       "                                   LOCATION  \n",
       "0  13600    MARINA POINT                 DR  \n",
       "1   2500 S  SYCAMORE                     AV  \n",
       "2   3300    SAN MARINO                   ST  \n",
       "3                         1900    TRANSIENT  \n",
       "4   6200    4TH                          AV  "
      ]
     },
     "execution_count": 2,
     "metadata": {},
     "output_type": "execute_result"
    }
   ],
   "source": [
    "# Read in and preview the dataset\n",
    "crimes = pd.read_csv(\"crimes.csv\", parse_dates=[\"Date Rptd\", \"DATE OCC\"], dtype={\"TIME OCC\": str})\n",
    "crimes.head()"
   ]
  },
  {
   "cell_type": "code",
   "execution_count": 5,
   "id": "e48cc401",
   "metadata": {},
   "outputs": [
    {
     "data": {
      "text/plain": [
       "array(['13600    MARINA POINT                 DR',\n",
       "       '2500 S  SYCAMORE                     AV',\n",
       "       '3300    SAN MARINO                   ST', ...,\n",
       "       'NASSAU                       AV',\n",
       "       '6200 W  78TH                         ST',\n",
       "       '1000    MILWAUKEE                    AV'], dtype=object)"
      ]
     },
     "execution_count": 5,
     "metadata": {},
     "output_type": "execute_result"
    }
   ],
   "source": [
    "crimes[\"LOCATION\"].unique()"
   ]
  },
  {
   "cell_type": "code",
   "execution_count": 4,
   "id": "d385db43",
   "metadata": {},
   "outputs": [],
   "source": [
    "## Which hour has the highest frequency of crimes? Store as an integer variable called peak_crime_hour\n",
    "\n",
    "# Extract the first two digits from \"TIME OCC\", representing the hour,\n",
    "# and convert to integer data type\n",
    "crimes[\"HOUR OCC\"] = crimes[\"TIME OCC\"].str[:2].astype(int)"
   ]
  },
  {
   "cell_type": "code",
   "execution_count": 5,
   "id": "b0b7f0bb",
   "metadata": {},
   "outputs": [
    {
     "data": {
      "text/html": [
       "<div>\n",
       "<style scoped>\n",
       "    .dataframe tbody tr th:only-of-type {\n",
       "        vertical-align: middle;\n",
       "    }\n",
       "\n",
       "    .dataframe tbody tr th {\n",
       "        vertical-align: top;\n",
       "    }\n",
       "\n",
       "    .dataframe thead th {\n",
       "        text-align: right;\n",
       "    }\n",
       "</style>\n",
       "<table border=\"1\" class=\"dataframe\">\n",
       "  <thead>\n",
       "    <tr style=\"text-align: right;\">\n",
       "      <th></th>\n",
       "      <th>DR_NO</th>\n",
       "      <th>Date Rptd</th>\n",
       "      <th>DATE OCC</th>\n",
       "      <th>TIME OCC</th>\n",
       "      <th>AREA NAME</th>\n",
       "      <th>Crm Cd Desc</th>\n",
       "      <th>Vict Age</th>\n",
       "      <th>Vict Sex</th>\n",
       "      <th>Vict Descent</th>\n",
       "      <th>Weapon Desc</th>\n",
       "      <th>Status Desc</th>\n",
       "      <th>LOCATION</th>\n",
       "      <th>HOUR OCC</th>\n",
       "    </tr>\n",
       "  </thead>\n",
       "  <tbody>\n",
       "    <tr>\n",
       "      <th>0</th>\n",
       "      <td>221412410</td>\n",
       "      <td>2022-06-15</td>\n",
       "      <td>2020-11-12</td>\n",
       "      <td>1700</td>\n",
       "      <td>Pacific</td>\n",
       "      <td>THEFT FROM MOTOR VEHICLE - PETTY ($950 &amp; UNDER)</td>\n",
       "      <td>0</td>\n",
       "      <td>NaN</td>\n",
       "      <td>NaN</td>\n",
       "      <td>NaN</td>\n",
       "      <td>Invest Cont</td>\n",
       "      <td>13600    MARINA POINT                 DR</td>\n",
       "      <td>17</td>\n",
       "    </tr>\n",
       "    <tr>\n",
       "      <th>1</th>\n",
       "      <td>220314085</td>\n",
       "      <td>2022-07-22</td>\n",
       "      <td>2020-05-12</td>\n",
       "      <td>1110</td>\n",
       "      <td>Southwest</td>\n",
       "      <td>THEFT OF IDENTITY</td>\n",
       "      <td>27</td>\n",
       "      <td>F</td>\n",
       "      <td>B</td>\n",
       "      <td>NaN</td>\n",
       "      <td>Invest Cont</td>\n",
       "      <td>2500 S  SYCAMORE                     AV</td>\n",
       "      <td>11</td>\n",
       "    </tr>\n",
       "    <tr>\n",
       "      <th>2</th>\n",
       "      <td>222013040</td>\n",
       "      <td>2022-08-06</td>\n",
       "      <td>2020-06-04</td>\n",
       "      <td>1620</td>\n",
       "      <td>Olympic</td>\n",
       "      <td>THEFT OF IDENTITY</td>\n",
       "      <td>60</td>\n",
       "      <td>M</td>\n",
       "      <td>H</td>\n",
       "      <td>NaN</td>\n",
       "      <td>Invest Cont</td>\n",
       "      <td>3300    SAN MARINO                   ST</td>\n",
       "      <td>16</td>\n",
       "    </tr>\n",
       "    <tr>\n",
       "      <th>3</th>\n",
       "      <td>220614831</td>\n",
       "      <td>2022-08-18</td>\n",
       "      <td>2020-08-17</td>\n",
       "      <td>1200</td>\n",
       "      <td>Hollywood</td>\n",
       "      <td>THEFT OF IDENTITY</td>\n",
       "      <td>28</td>\n",
       "      <td>M</td>\n",
       "      <td>H</td>\n",
       "      <td>NaN</td>\n",
       "      <td>Invest Cont</td>\n",
       "      <td>1900    TRANSIENT</td>\n",
       "      <td>12</td>\n",
       "    </tr>\n",
       "    <tr>\n",
       "      <th>4</th>\n",
       "      <td>231207725</td>\n",
       "      <td>2023-02-27</td>\n",
       "      <td>2020-01-27</td>\n",
       "      <td>0635</td>\n",
       "      <td>77th Street</td>\n",
       "      <td>THEFT OF IDENTITY</td>\n",
       "      <td>37</td>\n",
       "      <td>M</td>\n",
       "      <td>H</td>\n",
       "      <td>NaN</td>\n",
       "      <td>Invest Cont</td>\n",
       "      <td>6200    4TH                          AV</td>\n",
       "      <td>6</td>\n",
       "    </tr>\n",
       "  </tbody>\n",
       "</table>\n",
       "</div>"
      ],
      "text/plain": [
       "       DR_NO  Date Rptd   DATE OCC TIME OCC    AREA NAME  \\\n",
       "0  221412410 2022-06-15 2020-11-12     1700      Pacific   \n",
       "1  220314085 2022-07-22 2020-05-12     1110    Southwest   \n",
       "2  222013040 2022-08-06 2020-06-04     1620      Olympic   \n",
       "3  220614831 2022-08-18 2020-08-17     1200    Hollywood   \n",
       "4  231207725 2023-02-27 2020-01-27     0635  77th Street   \n",
       "\n",
       "                                       Crm Cd Desc  Vict Age Vict Sex  \\\n",
       "0  THEFT FROM MOTOR VEHICLE - PETTY ($950 & UNDER)         0      NaN   \n",
       "1                                THEFT OF IDENTITY        27        F   \n",
       "2                                THEFT OF IDENTITY        60        M   \n",
       "3                                THEFT OF IDENTITY        28        M   \n",
       "4                                THEFT OF IDENTITY        37        M   \n",
       "\n",
       "  Vict Descent Weapon Desc  Status Desc  \\\n",
       "0          NaN         NaN  Invest Cont   \n",
       "1            B         NaN  Invest Cont   \n",
       "2            H         NaN  Invest Cont   \n",
       "3            H         NaN  Invest Cont   \n",
       "4            H         NaN  Invest Cont   \n",
       "\n",
       "                                   LOCATION  HOUR OCC  \n",
       "0  13600    MARINA POINT                 DR        17  \n",
       "1   2500 S  SYCAMORE                     AV        11  \n",
       "2   3300    SAN MARINO                   ST        16  \n",
       "3                         1900    TRANSIENT        12  \n",
       "4   6200    4TH                          AV         6  "
      ]
     },
     "execution_count": 5,
     "metadata": {},
     "output_type": "execute_result"
    }
   ],
   "source": [
    "# Preview the DataFrame to confirm the new column is correct\n",
    "crimes.head()"
   ]
  },
  {
   "cell_type": "code",
   "execution_count": 17,
   "id": "71c0e3a9",
   "metadata": {},
   "outputs": [
    {
     "data": {
      "text/plain": [
       "DR_NO                0\n",
       "Date Rptd            0\n",
       "DATE OCC             0\n",
       "TIME OCC             0\n",
       "AREA NAME            0\n",
       "Crm Cd Desc          0\n",
       "Vict Age             0\n",
       "Vict Sex         32248\n",
       "Vict Descent     32249\n",
       "Weapon Desc     167901\n",
       "Status Desc          0\n",
       "LOCATION             0\n",
       "HOUR OCC             0\n",
       "Age Bracket      62273\n",
       "dtype: int64"
      ]
     },
     "execution_count": 17,
     "metadata": {},
     "output_type": "execute_result"
    }
   ],
   "source": [
    "# check nans in the dataset\n",
    "crimes.isna().sum()"
   ]
  },
  {
   "cell_type": "markdown",
   "id": "20be4d9c",
   "metadata": {},
   "source": [
    "- it seems that there are some nan values in (Vict Sex, Vict Descent, Weapon Desc) columns"
   ]
  },
  {
   "cell_type": "code",
   "execution_count": 22,
   "id": "90efbe67",
   "metadata": {},
   "outputs": [],
   "source": [
    "# so now I will impute this nans with \"Unknown\"\n",
    "crimes.fillna(method=\"bfill\", inplace=True)"
   ]
  },
  {
   "cell_type": "code",
   "execution_count": 23,
   "id": "85847e1f",
   "metadata": {},
   "outputs": [
    {
     "data": {
      "text/plain": [
       "DR_NO           0\n",
       "Date Rptd       0\n",
       "DATE OCC        0\n",
       "TIME OCC        0\n",
       "AREA NAME       0\n",
       "Crm Cd Desc     0\n",
       "Vict Age        0\n",
       "Vict Sex        0\n",
       "Vict Descent    0\n",
       "Weapon Desc     1\n",
       "Status Desc     0\n",
       "LOCATION        0\n",
       "HOUR OCC        0\n",
       "Age Bracket     0\n",
       "dtype: int64"
      ]
     },
     "execution_count": 23,
     "metadata": {},
     "output_type": "execute_result"
    }
   ],
   "source": [
    "# check if the imputing process is completed \n",
    "crimes.isna().sum()"
   ]
  },
  {
   "cell_type": "markdown",
   "id": "2daa5ad5",
   "metadata": {},
   "source": [
    "* now : `the dataset has no null values or nans`"
   ]
  },
  {
   "cell_type": "code",
   "execution_count": 6,
   "id": "f76f2492",
   "metadata": {},
   "outputs": [
    {
     "data": {
      "image/png": "[encoded data removed]",
      "text/plain": [
       "<Figure size 640x480 with 1 Axes>"
      ]
     },
     "metadata": {},
     "output_type": "display_data"
    }
   ],
   "source": [
    "# Produce a countplot to find the largest frequency of crimes by hour\n",
    "sns.countplot(data=crimes, x=\"HOUR OCC\")\n",
    "plt.show()"
   ]
  },
  {
   "cell_type": "code",
   "execution_count": 7,
   "id": "a93119e5",
   "metadata": {},
   "outputs": [],
   "source": [
    "# Midday has the largest volume of crime\n",
    "peak_crime_hour = 12"
   ]
  },
  {
   "cell_type": "markdown",
   "id": "7c0e63d0",
   "metadata": {},
   "source": [
    "* comment: `this means that most crimes occur in 12 midnight `"
   ]
  },
  {
   "cell_type": "code",
   "execution_count": 8,
   "id": "e7cbf22b",
   "metadata": {},
   "outputs": [],
   "source": [
    "## Which area has the largest frequency of night crimes (crimes committed between 10pm and 3:59am)? \n",
    "## Save as a string variable called peak_night_crime_location\n",
    "# Filter for the night-time hours\n",
    "# 0 = midnight; 3 = crimes between 3am and 3:59am, i.e., don't include 4\n",
    "night_time = crimes[crimes[\"HOUR OCC\"].isin([22,23,0,1,2,3])]"
   ]
  },
  {
   "cell_type": "code",
   "execution_count": 9,
   "id": "9a2b1835",
   "metadata": {},
   "outputs": [],
   "source": [
    "# Group by \"AREA NAME\" and count occurrences, filtering for the largest value and saving the \"AREA NAME\"\n",
    "peak_night_crime_location = night_time.groupby(\"AREA NAME\", \n",
    "                        as_index=False)[\"HOUR OCC\"].count().sort_values(\"HOUR OCC\", \n",
    "                        ascending=False).iloc[0][\"AREA NAME\"]\n"
   ]
  },
  {
   "cell_type": "code",
   "execution_count": 10,
   "id": "3b2f2b7a",
   "metadata": {},
   "outputs": [
    {
     "name": "stdout",
     "output_type": "stream",
     "text": [
      "The area with the largest volume of night crime is Central\n"
     ]
    }
   ],
   "source": [
    "# Print the peak night crime location\n",
    "print(f\"The area with the largest volume of night crime is {peak_night_crime_location}\")"
   ]
  },
  {
   "cell_type": "code",
   "execution_count": 11,
   "id": "dacf332e",
   "metadata": {},
   "outputs": [],
   "source": [
    "## Identify the number of crimes committed against victims by age group (0-17, 18-25, 26-34, 35-44, 45-54, 55-64, 65+) \n",
    "## Save as a pandas Series called victim_ages\n",
    "# Create bins and labels for victim age ranges\n",
    "age_bins = [0, 17, 25, 34, 44, 54, 64, np.inf]\n",
    "age_labels = [\"0-17\", \"18-25\", \"26-34\", \"35-44\", \"45-54\", \"55-64\", \"65+\"]"
   ]
  },
  {
   "cell_type": "code",
   "execution_count": 12,
   "id": "3a7185fb",
   "metadata": {},
   "outputs": [],
   "source": [
    "# Add a new column using pd.cut() to bin values into discrete intervals\n",
    "crimes[\"Age Bracket\"] = pd.cut(crimes[\"Vict Age\"],\n",
    "                               bins=age_bins,\n",
    "                               labels=age_labels)"
   ]
  },
  {
   "cell_type": "code",
   "execution_count": 16,
   "id": "ad2703aa",
   "metadata": {},
   "outputs": [
    {
     "data": {
      "text/plain": [
       "0      NaN\n",
       "1    26-34\n",
       "2    55-64\n",
       "3    26-34\n",
       "4    35-44\n",
       "Name: Age Bracket, dtype: category\n",
       "Categories (7, object): ['0-17' < '18-25' < '26-34' < '35-44' < '45-54' < '55-64' < '65+']"
      ]
     },
     "execution_count": 16,
     "metadata": {},
     "output_type": "execute_result"
    }
   ],
   "source": [
    "crimes[\"Age Bracket\"].head()"
   ]
  },
  {
   "cell_type": "code",
   "execution_count": 13,
   "id": "b484af84",
   "metadata": {},
   "outputs": [
    {
     "name": "stdout",
     "output_type": "stream",
     "text": [
      "26-34    47470\n",
      "35-44    42157\n",
      "45-54    28353\n",
      "18-25    28291\n",
      "55-64    20169\n",
      "65+      14747\n",
      "0-17      4528\n",
      "Name: Age Bracket, dtype: int64\n"
     ]
    }
   ],
   "source": [
    "# Find the category with the largest frequency\n",
    "victim_ages = crimes[\"Age Bracket\"].value_counts()\n",
    "print(victim_ages)"
   ]
  },
  {
   "cell_type": "code",
   "execution_count": null,
   "id": "0e859776",
   "metadata": {},
   "outputs": [],
   "source": []
  }
 ],
 "metadata": {
  "kernelspec": {
   "display_name": "Python 3 (ipykernel)",
   "language": "python",
   "name": "python3"
  },
  "language_info": {
   "codemirror_mode": {
    "name": "ipython",
    "version": 3
   },
   "file_extension": ".py",
   "mimetype": "text/x-python",
   "name": "python",
   "nbconvert_exporter": "python",
   "pygments_lexer": "ipython3",
   "version": "3.12.7"
  }
 },
 "nbformat": 4,
 "nbformat_minor": 5
}
